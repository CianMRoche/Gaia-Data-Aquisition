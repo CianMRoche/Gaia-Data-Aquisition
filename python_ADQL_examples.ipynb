{
 "cells": [
  {
   "cell_type": "markdown",
   "metadata": {},
   "source": [
    "# Astroquery tutorial notebook"
   ]
  },
  {
   "cell_type": "markdown",
   "metadata": {},
   "source": [
    "Install astroquery via running \"conda install -c conda-forge astroquery\" from inside an anaconda environment\n",
    "\n",
    "Information from https://astroquery.readthedocs.io/en/latest/gaia/gaia.html\n"
   ]
  },
  {
   "cell_type": "code",
   "execution_count": 30,
   "metadata": {},
   "outputs": [],
   "source": [
    "from astroquery.gaia import Gaia\n",
    "import astropy.units as u\n",
    "from astropy.coordinates import SkyCoord\n",
    "import numpy as np\n",
    "import matplotlib.pyplot as plt\n"
   ]
  },
  {
   "cell_type": "markdown",
   "metadata": {},
   "source": [
    "# Launch job directly from ADQL script"
   ]
  },
  {
   "cell_type": "code",
   "execution_count": 39,
   "metadata": {},
   "outputs": [],
   "source": [
    "job = Gaia.launch_job_async(\"\"\"SELECT TOP 100 ra, dec\n",
    "                                FROM gaiadr2.gaia_source \n",
    "                                ORDER BY source_id\"\"\",\n",
    "                            dump_to_file=True, output_format='csv')\n",
    "\n",
    "#documentation for this function: https://astroquery.readthedocs.io/en/latest/api/astroquery.gaia.GaiaClass.html#astroquery.gaia.GaiaClass.launch_job_async"
   ]
  },
  {
   "cell_type": "code",
   "execution_count": 40,
   "metadata": {},
   "outputs": [
    {
     "name": "stdout",
     "output_type": "stream",
     "text": [
      "Jobid: 1652751998130O\n",
      "Phase: COMPLETED\n",
      "Owner: None\n",
      "Output file: 1652751998130O-result.csv\n",
      "Results: None\n"
     ]
    }
   ],
   "source": [
    "print(job)"
   ]
  },
  {
   "cell_type": "markdown",
   "metadata": {},
   "source": [
    "To look at our results, we can load the csv in numpy"
   ]
  },
  {
   "cell_type": "code",
   "execution_count": 41,
   "metadata": {},
   "outputs": [
    {
     "data": {
      "text/plain": [
       "'1652751998130O-result.csv'"
      ]
     },
     "execution_count": 41,
     "metadata": {},
     "output_type": "execute_result"
    }
   ],
   "source": [
    "job.outputFile  # Source code at https://github.com/astropy/astroquery/blob/main/astroquery/utils/tap/model/job.py"
   ]
  },
  {
   "cell_type": "code",
   "execution_count": 42,
   "metadata": {},
   "outputs": [],
   "source": [
    "ra,dec = np.loadtxt(job.outputFile, delimiter=',', unpack=True,skiprows=1)"
   ]
  },
  {
   "cell_type": "code",
   "execution_count": 43,
   "metadata": {},
   "outputs": [
    {
     "data": {
      "text/plain": [
       "Text(0, 0.5, 'DEC [deg[')"
      ]
     },
     "execution_count": 43,
     "metadata": {},
     "output_type": "execute_result"
    },
    {
     "data": {
      "image/png": "[encoded data removed]",
      "text/plain": [
       "<Figure size 432x288 with 1 Axes>"
      ]
     },
     "metadata": {
      "needs_background": "light"
     },
     "output_type": "display_data"
    }
   ],
   "source": [
    "plt.plot(ra,dec,'o')\n",
    "plt.xlabel('RA [deg]')\n",
    "plt.ylabel('DEC [deg]')"
   ]
  },
  {
   "cell_type": "markdown",
   "metadata": {},
   "source": [
    "You may notice that byt changing the TOP number, we get different shapes in the output image. This is just a result of how the objects are ordered by ID.\n",
    "\n",
    "This is the method by which most of the examples will be demonstrated, but there are other options which are wrapper functions provided by astroquery, as we'll see now:"
   ]
  },
  {
   "cell_type": "markdown",
   "metadata": {},
   "source": [
    "# Get all information in a rectangular neighborhood of a point"
   ]
  },
  {
   "cell_type": "markdown",
   "metadata": {},
   "source": [
    "Lets look at a rectangular region of angular area 0.01 square degrees, centered on the point (RA,DEC) = (280,-60) in degrees. We will use Gaia DR2 as our source and limit the output to 50 objects"
   ]
  },
  {
   "cell_type": "code",
   "execution_count": 11,
   "metadata": {},
   "outputs": [
    {
     "name": "stdout",
     "output_type": "stream",
     "text": [
      "INFO: Query finished. [astroquery.utils.tap.core]\n"
     ]
    }
   ],
   "source": [
    "Gaia.MAIN_GAIA_TABLE = \"gaiadr2.gaia_source\"        # This is the default table used, but we set it explicitly for clarity\n",
    "Gaia.ROW_LIMIT = 50         # This is the default number of rows (sources) returned, but we set it explicitly for clarity\n",
    "\n",
    "coord = SkyCoord(ra=280, dec=-60, unit=(u.degree, u.degree), frame='icrs') # See https://docs.astropy.org/en/stable/api/astropy.coordinates.SkyCoord.html\n",
    "width = u.Quantity(0.1, u.deg)\n",
    "height = u.Quantity(0.1, u.deg)\n",
    "\n",
    "r = Gaia.query_object_async(coordinate=coord, width=width, height=height)"
   ]
  },
  {
   "cell_type": "code",
   "execution_count": 14,
   "metadata": {},
   "outputs": [
    {
     "name": "stdout",
     "output_type": "stream",
     "text": [
      "         dist             solution_id             DESIGNATION          ... lum_percentile_lower lum_percentile_upper                                     datalink_url                                   \n",
      "                                                                       ...        solLum               solLum                                                                                           \n",
      "--------------------- ------------------- ---------------------------- ... -------------------- -------------------- -----------------------------------------------------------------------------------\n",
      "0.0026034636994048854 1635721458409799680 Gaia DR2 6636090334814214528 ...                   --                   -- https://gea.esac.esa.int/data-server/datalink/links?ID=Gaia+DR2+6636090334814214528\n",
      "0.0038518741347606357 1635721458409799680 Gaia DR2 6636090339113063296 ...          0.062135242           0.07354171 https://gea.esac.esa.int/data-server/datalink/links?ID=Gaia+DR2+6636090339113063296\n",
      "  0.00454542650096783 1635721458409799680 Gaia DR2 6636090334814217600 ...                   --                   -- https://gea.esac.esa.int/data-server/datalink/links?ID=Gaia+DR2+6636090334814217600\n",
      "                  ...                 ...                          ... ...                  ...                  ...                                                                                 ...\n",
      " 0.020307185970548904 1635721458409799680 Gaia DR2 6636089514478069888 ...                   --                   -- https://gea.esac.esa.int/data-server/datalink/links?ID=Gaia+DR2+6636089514478069888\n",
      " 0.020454730686780127 1635721458409799680 Gaia DR2 6636066940131244288 ...                   --                   -- https://gea.esac.esa.int/data-server/datalink/links?ID=Gaia+DR2+6636066940131244288\n",
      " 0.020802655215768254 1635721458409799680 Gaia DR2 6636067141990822272 ...                   --                   -- https://gea.esac.esa.int/data-server/datalink/links?ID=Gaia+DR2+6636067141990822272\n",
      " 0.021615117161838747 1635721458409799680 Gaia DR2 6636090369173963776 ...                   --                   -- https://gea.esac.esa.int/data-server/datalink/links?ID=Gaia+DR2+6636090369173963776\n",
      "Length = 50 rows\n"
     ]
    }
   ],
   "source": [
    "r.pprint(max_lines=12, max_width=200)   # the arguments here just set how the result of the query is displayed, not how it is saved"
   ]
  },
  {
   "cell_type": "code",
   "execution_count": 19,
   "metadata": {},
   "outputs": [],
   "source": [
    "r; # A long output"
   ]
  },
  {
   "cell_type": "markdown",
   "metadata": {},
   "source": [
    "# Get all information in a circular neighborhood of a point"
   ]
  },
  {
   "cell_type": "code",
   "execution_count": 92,
   "metadata": {},
   "outputs": [
    {
     "name": "stdout",
     "output_type": "stream",
     "text": [
      "INFO: Query finished. [astroquery.utils.tap.core]\n"
     ]
    }
   ],
   "source": [
    "Gaia.MAIN_GAIA_TABLE = \"gaiadr2.gaia_source\"        # This is the default table used, but we set it explicitly for clarity\n",
    "Gaia.ROW_LIMIT = 100000        # This is the default number of rows (sources) returned, but we set it explicitly for clarity\n",
    "\n",
    "coord = SkyCoord(ra=280, dec=-60, unit=(u.degree, u.degree), frame='icrs')\n",
    "radius = u.Quantity(1.0, u.deg)\n",
    "j = Gaia.cone_search_async(coord, radius)"
   ]
  },
  {
   "cell_type": "code",
   "execution_count": 93,
   "metadata": {},
   "outputs": [],
   "source": [
    "r = j.get_results()  # We can assign the job to a variable and assign the query result in this way"
   ]
  },
  {
   "cell_type": "code",
   "execution_count": 94,
   "metadata": {},
   "outputs": [],
   "source": [
    "r; # A long output"
   ]
  },
  {
   "cell_type": "code",
   "execution_count": 95,
   "metadata": {},
   "outputs": [
    {
     "name": "stdout",
     "output_type": "stream",
     "text": [
      "    solution_id             DESIGNATION               source_id      ... lum_percentile_upper                                     datalink_url                                             dist        \n",
      "                                                                     ...        solLum                                                                                                                 \n",
      "------------------- ---------------------------- ------------------- ... -------------------- ----------------------------------------------------------------------------------- ---------------------\n",
      "1635721458409799680 Gaia DR2 6636090334814214528 6636090334814214528 ...                   -- https://gea.esac.esa.int/data-server/datalink/links?ID=Gaia+DR2+6636090334814214528 0.0026034636994048854\n",
      "1635721458409799680 Gaia DR2 6636090339113063296 6636090339113063296 ...           0.07354171 https://gea.esac.esa.int/data-server/datalink/links?ID=Gaia+DR2+6636090339113063296 0.0038518741347606357\n",
      "1635721458409799680 Gaia DR2 6636090334814217600 6636090334814217600 ...                   -- https://gea.esac.esa.int/data-server/datalink/links?ID=Gaia+DR2+6636090334814217600   0.00454542650096783\n",
      "                ...                          ...                 ... ...                  ...                                                                                 ...                   ...\n",
      "1635721458409799680 Gaia DR2 6634829847815505792 6634829847815505792 ...                   -- https://gea.esac.esa.int/data-server/datalink/links?ID=Gaia+DR2+6634829847815505792    0.9398375425652099\n",
      "1635721458409799680 Gaia DR2 6632909314534868352 6632909314534868352 ...                   -- https://gea.esac.esa.int/data-server/datalink/links?ID=Gaia+DR2+6632909314534868352    0.9398378706465412\n",
      "1635721458409799680 Gaia DR2 6634855892494392576 6634855892494392576 ...                   -- https://gea.esac.esa.int/data-server/datalink/links?ID=Gaia+DR2+6634855892494392576    0.9398400292943954\n",
      "1635721458409799680 Gaia DR2 6632790081944549120 6632790081944549120 ...            0.3850014 https://gea.esac.esa.int/data-server/datalink/links?ID=Gaia+DR2+6632790081944549120    0.9398413030760004\n",
      "Length = 100000 rows\n"
     ]
    }
   ],
   "source": [
    "r.pprint(max_lines=12, max_width=200)"
   ]
  },
  {
   "cell_type": "markdown",
   "metadata": {},
   "source": [
    "### Plot the objects "
   ]
  },
  {
   "cell_type": "code",
   "execution_count": 96,
   "metadata": {},
   "outputs": [
    {
     "data": {
      "text/html": [
       "<i>Row index=0</i>\n",
       "<table id=\"table2631522470016\">\n",
       "<thead><tr><th>solution_id</th><th>DESIGNATION</th><th>source_id</th><th>random_index</th><th>ref_epoch</th><th>ra</th><th>ra_error</th><th>dec</th><th>dec_error</th><th>parallax</th><th>parallax_error</th><th>parallax_over_error</th><th>pmra</th><th>pmra_error</th><th>pmdec</th><th>pmdec_error</th><th>ra_dec_corr</th><th>ra_parallax_corr</th><th>ra_pmra_corr</th><th>ra_pmdec_corr</th><th>dec_parallax_corr</th><th>dec_pmra_corr</th><th>dec_pmdec_corr</th><th>parallax_pmra_corr</th><th>parallax_pmdec_corr</th><th>pmra_pmdec_corr</th><th>astrometric_n_obs_al</th><th>astrometric_n_obs_ac</th><th>astrometric_n_good_obs_al</th><th>astrometric_n_bad_obs_al</th><th>astrometric_gof_al</th><th>astrometric_chi2_al</th><th>astrometric_excess_noise</th><th>astrometric_excess_noise_sig</th><th>astrometric_params_solved</th><th>astrometric_primary_flag</th><th>astrometric_weight_al</th><th>astrometric_pseudo_colour</th><th>astrometric_pseudo_colour_error</th><th>mean_varpi_factor_al</th><th>astrometric_matched_observations</th><th>visibility_periods_used</th><th>astrometric_sigma5d_max</th><th>frame_rotator_object_type</th><th>matched_observations</th><th>duplicated_source</th><th>phot_g_n_obs</th><th>phot_g_mean_flux</th><th>phot_g_mean_flux_error</th><th>phot_g_mean_flux_over_error</th><th>phot_g_mean_mag</th><th>phot_bp_n_obs</th><th>phot_bp_mean_flux</th><th>phot_bp_mean_flux_error</th><th>phot_bp_mean_flux_over_error</th><th>phot_bp_mean_mag</th><th>phot_rp_n_obs</th><th>phot_rp_mean_flux</th><th>phot_rp_mean_flux_error</th><th>phot_rp_mean_flux_over_error</th><th>phot_rp_mean_mag</th><th>phot_bp_rp_excess_factor</th><th>phot_proc_mode</th><th>bp_rp</th><th>bp_g</th><th>g_rp</th><th>radial_velocity</th><th>radial_velocity_error</th><th>rv_nb_transits</th><th>rv_template_teff</th><th>rv_template_logg</th><th>rv_template_fe_h</th><th>phot_variable_flag</th><th>l</th><th>b</th><th>ecl_lon</th><th>ecl_lat</th><th>priam_flags</th><th>teff_val</th><th>teff_percentile_lower</th><th>teff_percentile_upper</th><th>a_g_val</th><th>a_g_percentile_lower</th><th>a_g_percentile_upper</th><th>e_bp_min_rp_val</th><th>e_bp_min_rp_percentile_lower</th><th>e_bp_min_rp_percentile_upper</th><th>flame_flags</th><th>radius_val</th><th>radius_percentile_lower</th><th>radius_percentile_upper</th><th>lum_val</th><th>lum_percentile_lower</th><th>lum_percentile_upper</th><th>datalink_url</th><th>dist</th></tr></thead>\n",
       "<thead><tr><th></th><th></th><th></th><th></th><th>yr</th><th>deg</th><th>mas</th><th>deg</th><th>mas</th><th>mas</th><th>mas</th><th></th><th>mas / yr</th><th>mas / yr</th><th>mas / yr</th><th>mas / yr</th><th></th><th></th><th></th><th></th><th></th><th></th><th></th><th></th><th></th><th></th><th></th><th></th><th></th><th></th><th></th><th></th><th>mas</th><th></th><th></th><th></th><th>1 / mas2</th><th>1 / um</th><th>1 / um</th><th></th><th></th><th></th><th>mas</th><th></th><th></th><th></th><th></th><th>electron / s</th><th>electron / s</th><th></th><th>mag</th><th></th><th>electron / s</th><th>electron / s</th><th></th><th>mag</th><th></th><th>electron / s</th><th>electron / s</th><th></th><th>mag</th><th></th><th></th><th>mag</th><th>mag</th><th>mag</th><th>km / s</th><th>km / s</th><th></th><th>K</th><th>log(cm.s**-2)</th><th>dex</th><th></th><th>deg</th><th>deg</th><th>deg</th><th>deg</th><th></th><th>K</th><th>K</th><th>K</th><th>mag</th><th>mag</th><th>mag</th><th>mag</th><th>mag</th><th>mag</th><th></th><th>solRad</th><th>solRad</th><th>solRad</th><th>solLum</th><th>solLum</th><th>solLum</th><th></th><th></th></tr></thead>\n",
       "<thead><tr><th>int64</th><th>object</th><th>int64</th><th>int64</th><th>float64</th><th>float64</th><th>float64</th><th>float64</th><th>float64</th><th>float64</th><th>float64</th><th>float32</th><th>float64</th><th>float64</th><th>float64</th><th>float64</th><th>float32</th><th>float32</th><th>float32</th><th>float32</th><th>float32</th><th>float32</th><th>float32</th><th>float32</th><th>float32</th><th>float32</th><th>int32</th><th>int32</th><th>int32</th><th>int32</th><th>float32</th><th>float32</th><th>float64</th><th>float64</th><th>int16</th><th>bool</th><th>float32</th><th>float64</th><th>float64</th><th>float32</th><th>int16</th><th>int16</th><th>float32</th><th>int32</th><th>int16</th><th>bool</th><th>int32</th><th>float64</th><th>float64</th><th>float32</th><th>float32</th><th>int32</th><th>float64</th><th>float64</th><th>float32</th><th>float32</th><th>int32</th><th>float64</th><th>float64</th><th>float32</th><th>float32</th><th>float32</th><th>int16</th><th>float32</th><th>float32</th><th>float32</th><th>float64</th><th>float64</th><th>int32</th><th>float32</th><th>float32</th><th>float32</th><th>object</th><th>float64</th><th>float64</th><th>float64</th><th>float64</th><th>int64</th><th>float32</th><th>float32</th><th>float32</th><th>float32</th><th>float32</th><th>float32</th><th>float32</th><th>float32</th><th>float32</th><th>int64</th><th>float32</th><th>float32</th><th>float32</th><th>float32</th><th>float32</th><th>float32</th><th>object</th><th>float64</th></tr></thead>\n",
       "<tr><td>1635721458409799680</td><td>Gaia DR2 6636090334814214528</td><td>6636090334814214528</td><td>1176213019</td><td>2015.5</td><td>280.0002535109784</td><td>0.29861262266219235</td><td>-60.00259470935402</td><td>0.3286090424553563</td><td>-0.3110984894867886</td><td>0.4659006859423401</td><td>-0.66773564</td><td>-0.3829646819799206</td><td>0.5485869545050303</td><td>-6.494624923325772</td><td>0.5631744832783001</td><td>0.14009339</td><td>-0.032677036</td><td>-0.040756915</td><td>0.1848471</td><td>-0.24814793</td><td>0.25431943</td><td>-0.020390274</td><td>-0.41731763</td><td>-0.023678254</td><td>0.053505838</td><td>273</td><td>0</td><td>272</td><td>1</td><td>2.0634625</td><td>316.8305</td><td>0.8687575596881527</td><td>0.8324284930248446</td><td>31</td><td>False</td><td>0.08247371</td><td>1.5682945669210009</td><td>0.10173123960452841</td><td>0.09272486</td><td>31</td><td>14</td><td>0.5277922</td><td>0</td><td>32</td><td>False</td><td>277</td><td>229.27686620684315</td><td>1.1770479415122068</td><td>194.78975</td><td>19.787466</td><td>29</td><td>132.09798809841195</td><td>9.236134667236668</td><td>14.302302</td><td>20.049149</td><td>25</td><td>169.83721262885817</td><td>6.933962725221738</td><td>24.493528</td><td>19.186838</td><td>1.3169022</td><td>0</td><td>0.8623104</td><td>0.2616825</td><td>0.6006279</td><td>--</td><td>--</td><td>0</td><td>--</td><td>--</td><td>--</td><td>NOT_AVAILABLE</td><td>335.4869899853897</td><td>-21.882743330467846</td><td>276.222852405146</td><td>-36.779152165694725</td><td>--</td><td>--</td><td>--</td><td>--</td><td>--</td><td>--</td><td>--</td><td>--</td><td>--</td><td>--</td><td>--</td><td>--</td><td>--</td><td>--</td><td>--</td><td>--</td><td>--</td><td>https://gea.esac.esa.int/data-server/datalink/links?ID=Gaia+DR2+6636090334814214528</td><td>0.0026034636994048854</td></tr>\n",
       "</table>"
      ],
      "text/plain": [
       "<Row index=0>\n",
       "    solution_id             DESIGNATION               source_id      random_index ref_epoch         ra              ra_error             dec             dec_error            parallax        parallax_error   parallax_over_error         pmra            pmra_error           pmdec           pmdec_error     ra_dec_corr ra_parallax_corr ra_pmra_corr ra_pmdec_corr dec_parallax_corr dec_pmra_corr dec_pmdec_corr parallax_pmra_corr parallax_pmdec_corr pmra_pmdec_corr astrometric_n_obs_al astrometric_n_obs_ac astrometric_n_good_obs_al astrometric_n_bad_obs_al astrometric_gof_al astrometric_chi2_al astrometric_excess_noise astrometric_excess_noise_sig astrometric_params_solved astrometric_primary_flag astrometric_weight_al astrometric_pseudo_colour astrometric_pseudo_colour_error mean_varpi_factor_al astrometric_matched_observations visibility_periods_used astrometric_sigma5d_max frame_rotator_object_type matched_observations duplicated_source phot_g_n_obs  phot_g_mean_flux  phot_g_mean_flux_error phot_g_mean_flux_over_error phot_g_mean_mag phot_bp_n_obs phot_bp_mean_flux  phot_bp_mean_flux_error phot_bp_mean_flux_over_error phot_bp_mean_mag phot_rp_n_obs phot_rp_mean_flux  phot_rp_mean_flux_error phot_rp_mean_flux_over_error phot_rp_mean_mag phot_bp_rp_excess_factor phot_proc_mode   bp_rp      bp_g      g_rp   radial_velocity radial_velocity_error rv_nb_transits rv_template_teff rv_template_logg rv_template_fe_h phot_variable_flag         l                  b              ecl_lon            ecl_lat       priam_flags teff_val teff_percentile_lower teff_percentile_upper a_g_val a_g_percentile_lower a_g_percentile_upper e_bp_min_rp_val e_bp_min_rp_percentile_lower e_bp_min_rp_percentile_upper flame_flags radius_val radius_percentile_lower radius_percentile_upper lum_val lum_percentile_lower lum_percentile_upper                                     datalink_url                                             dist        \n",
       "                                                                                      yr           deg                mas                deg                mas                 mas                mas                                   mas / yr           mas / yr           mas / yr           mas / yr                                                                                                                                                                                                                                                                                                                  mas                                                                                                   1 / mas2                 1 / um                       1 / um                                                                                                     mas                                                                                            electron / s         electron / s                                        mag                        electron / s          electron / s                                         mag                         electron / s          electron / s                                         mag                                                   mag       mag       mag         km / s             km / s                              K          log(cm.s**-2)         dex                                  deg                deg               deg                deg                        K               K                     K             mag           mag                  mag                mag                   mag                          mag                            solRad            solRad                  solRad          solLum        solLum               solLum                                                                                                                 \n",
       "       int64                   object                   int64           int64      float64       float64            float64            float64            float64             float64            float64             float32             float64            float64            float64            float64         float32       float32        float32       float32         float32         float32       float32          float32             float32           float32            int32                int32                   int32                    int32                float32             float32               float64                    float64                      int16                     bool                  float32                 float64                      float64                   float32                     int16                        int16                  float32                   int32                  int16                bool          int32          float64              float64                   float32               float32         int32          float64               float64                   float32                float32          int32          float64               float64                   float32                float32              float32              int16       float32   float32   float32      float64            float64            int32          float32          float32          float32            object            float64            float64           float64            float64          int64    float32         float32               float32        float32       float32              float32            float32               float32                      float32               int64     float32           float32                 float32         float32       float32              float32                                               object                                              float64       \n",
       "------------------- ---------------------------- ------------------- ------------ --------- ----------------- ------------------- ------------------ ------------------ ------------------- ------------------ ------------------- ------------------- ------------------ ------------------ ------------------ ----------- ---------------- ------------ ------------- ----------------- ------------- -------------- ------------------ ------------------- --------------- -------------------- -------------------- ------------------------- ------------------------ ------------------ ------------------- ------------------------ ---------------------------- ------------------------- ------------------------ --------------------- ------------------------- ------------------------------- -------------------- -------------------------------- ----------------------- ----------------------- ------------------------- -------------------- ----------------- ------------ ------------------ ---------------------- --------------------------- --------------- ------------- ------------------ ----------------------- ---------------------------- ---------------- ------------- ------------------ ----------------------- ---------------------------- ---------------- ------------------------ -------------- --------- --------- --------- --------------- --------------------- -------------- ---------------- ---------------- ---------------- ------------------ ----------------- ------------------- ---------------- ------------------- ----------- -------- --------------------- --------------------- ------- -------------------- -------------------- --------------- ---------------------------- ---------------------------- ----------- ---------- ----------------------- ----------------------- ------- -------------------- -------------------- ----------------------------------------------------------------------------------- ---------------------\n",
       "1635721458409799680 Gaia DR2 6636090334814214528 6636090334814214528   1176213019    2015.5 280.0002535109784 0.29861262266219235 -60.00259470935402 0.3286090424553563 -0.3110984894867886 0.4659006859423401         -0.66773564 -0.3829646819799206 0.5485869545050303 -6.494624923325772 0.5631744832783001  0.14009339     -0.032677036 -0.040756915     0.1848471       -0.24814793    0.25431943   -0.020390274        -0.41731763        -0.023678254     0.053505838                  273                    0                       272                        1          2.0634625            316.8305       0.8687575596881527           0.8324284930248446                        31                    False            0.08247371        1.5682945669210009             0.10173123960452841           0.09272486                               31                      14               0.5277922                         0                   32             False          277 229.27686620684315     1.1770479415122068                   194.78975       19.787466            29 132.09798809841195       9.236134667236668                    14.302302        20.049149            25 169.83721262885817       6.933962725221738                    24.493528        19.186838                1.3169022              0 0.8623104 0.2616825 0.6006279              --                    --              0               --               --               --      NOT_AVAILABLE 335.4869899853897 -21.882743330467846 276.222852405146 -36.779152165694725          --       --                    --                    --      --                   --                   --              --                           --                           --          --         --                      --                      --      --                   --                   -- https://gea.esac.esa.int/data-server/datalink/links?ID=Gaia+DR2+6636090334814214528 0.0026034636994048854"
      ]
     },
     "execution_count": 96,
     "metadata": {},
     "output_type": "execute_result"
    }
   ],
   "source": [
    "r[0] # all data about first object "
   ]
  },
  {
   "cell_type": "code",
   "execution_count": 97,
   "metadata": {},
   "outputs": [],
   "source": [
    "ra = r['ra']\n",
    "dec = r['dec']"
   ]
  },
  {
   "cell_type": "code",
   "execution_count": 104,
   "metadata": {},
   "outputs": [
    {
     "data": {
      "text/plain": [
       "(277.9330431829841, 282.06756279365425, -61.03309493839806, -58.96668784150832)"
      ]
     },
     "execution_count": 104,
     "metadata": {},
     "output_type": "execute_result"
    },
    {
     "data": {
      "image/png": "[encoded data removed]",
      "text/plain": [
       "<Figure size 432x288 with 1 Axes>"
      ]
     },
     "metadata": {
      "needs_background": "light"
     },
     "output_type": "display_data"
    }
   ],
   "source": [
    "fig = plt.figure()\n",
    "ax = fig.add_subplot(111)\n",
    "\n",
    "plt.plot(ra,dec,'o')\n",
    "plt.xlabel('RA [deg]')\n",
    "plt.ylabel('DEC [deg]')\n",
    "\n",
    "plt.axis('equal')\n",
    "#ax.set_aspect('equal', adjustable='datalim')"
   ]
  },
  {
   "cell_type": "code",
   "execution_count": null,
   "metadata": {},
   "outputs": [],
   "source": []
  }
 ],
 "metadata": {
  "interpreter": {
   "hash": "e8a468ef094408c4e17b0bd6975ea6441c0551d7f5608c62c0e16565415824c2"
  },
  "kernelspec": {
   "display_name": "Python 3.9.7 ('py3')",
   "language": "python",
   "name": "python3"
  },
  "language_info": {
   "codemirror_mode": {
    "name": "ipython",
    "version": 3
   },
   "file_extension": ".py",
   "mimetype": "text/x-python",
   "name": "python",
   "nbconvert_exporter": "python",
   "pygments_lexer": "ipython3",
   "version": "3.8.13"
  },
  "orig_nbformat": 4
 },
 "nbformat": 4,
 "nbformat_minor": 2
}
