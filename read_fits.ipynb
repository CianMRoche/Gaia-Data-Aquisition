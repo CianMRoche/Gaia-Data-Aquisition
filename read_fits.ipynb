{
 "cells": [
  {
   "cell_type": "markdown",
   "metadata": {},
   "source": [
    "Very basic example code for reading FITS files in python"
   ]
  },
  {
   "cell_type": "code",
   "execution_count": null,
   "metadata": {},
   "outputs": [],
   "source": [
    "# see https://docs.astropy.org/en/stable/io/fits/index.html#working-with-table-data"
   ]
  },
  {
   "cell_type": "code",
   "execution_count": null,
   "metadata": {},
   "outputs": [
    {
     "ename": "",
     "evalue": "",
     "output_type": "error",
     "traceback": [
      "\u001b[1;31mJupyter cannot be started. Error attempting to locate jupyter: Running cells with 'Python 3.6.8 64-bit' requires notebook package.\n",
      "Run the following command to install 'jupyter and notebook' into the Python environment. \n",
      "Command: 'python -m pip install jupyter notebook -U\n",
      "or\n",
      "conda install jupyter notebook -U'\n",
      "Click <a href='https://aka.ms/installJupyterForVSCode'>here</a> for more info."
     ]
    }
   ],
   "source": [
    "from astropy.io import fits\n",
    "fits_image_filename = \"./test_data_dir/1_to_11.fits\"\n",
    "\n",
    "hdul = fits.open(fits_image_filename)"
   ]
  },
  {
   "cell_type": "code",
   "execution_count": 17,
   "metadata": {},
   "outputs": [
    {
     "name": "stdout",
     "output_type": "stream",
     "text": [
      "Filename: ./test_data/225.0000000000_-82.1970032400.fits\n",
      "No.    Name      Ver    Type      Cards   Dimensions   Format\n",
      "  0  PRIMARY       1 PrimaryHDU       5   ()      \n",
      "  1  votable       1 BinTableHDU     16   933996R x 1C   [K]   \n"
     ]
    }
   ],
   "source": [
    "hdul.info()"
   ]
  },
  {
   "cell_type": "code",
   "execution_count": 18,
   "metadata": {},
   "outputs": [],
   "source": [
    "data = hdul[1].data"
   ]
  },
  {
   "cell_type": "code",
   "execution_count": 19,
   "metadata": {},
   "outputs": [
    {
     "data": {
      "text/plain": [
       "(2355581277417630208)"
      ]
     },
     "execution_count": 19,
     "metadata": {},
     "output_type": "execute_result"
    }
   ],
   "source": [
    "data[0] # first row (all the data for the first object)"
   ]
  },
  {
   "cell_type": "code",
   "execution_count": 20,
   "metadata": {},
   "outputs": [
    {
     "data": {
      "text/plain": [
       "ColDefs(\n",
       "    name = 'source_id'; format = 'K'\n",
       ")"
      ]
     },
     "execution_count": 20,
     "metadata": {},
     "output_type": "execute_result"
    }
   ],
   "source": [
    "data.columns"
   ]
  },
  {
   "cell_type": "code",
   "execution_count": 21,
   "metadata": {},
   "outputs": [
    {
     "data": {
      "text/plain": [
       "933996"
      ]
     },
     "execution_count": 21,
     "metadata": {},
     "output_type": "execute_result"
    }
   ],
   "source": [
    "len(data.field('source_id'))"
   ]
  },
  {
   "cell_type": "code",
   "execution_count": 5,
   "metadata": {},
   "outputs": [],
   "source": [
    "import pandas as pd\n",
    "import numpy as np\n",
    "\n",
    "df_origin = pd.read_pickle(\"/data/submit/gaia/dr3/kinematics/velocity_info/gaia_dr3_velocities.pkl\")\n",
    "df_origin = df_origin[np.isfinite(df_origin[\"vr\"])]"
   ]
  },
  {
   "cell_type": "code",
   "execution_count": 11,
   "metadata": {},
   "outputs": [
    {
     "data": {
      "text/html": [
       "<div>\n",
       "<style scoped>\n",
       "    .dataframe tbody tr th:only-of-type {\n",
       "        vertical-align: middle;\n",
       "    }\n",
       "\n",
       "    .dataframe tbody tr th {\n",
       "        vertical-align: top;\n",
       "    }\n",
       "\n",
       "    .dataframe thead th {\n",
       "        text-align: right;\n",
       "    }\n",
       "</style>\n",
       "<table border=\"1\" class=\"dataframe\">\n",
       "  <thead>\n",
       "    <tr style=\"text-align: right;\">\n",
       "      <th></th>\n",
       "      <th>vr</th>\n",
       "      <th>vtheta</th>\n",
       "      <th>vphi</th>\n",
       "      <th>vr_err</th>\n",
       "      <th>vtheta_err</th>\n",
       "      <th>vphi_err</th>\n",
       "      <th>feH</th>\n",
       "      <th>x</th>\n",
       "      <th>y</th>\n",
       "      <th>z</th>\n",
       "      <th>...</th>\n",
       "      <th>pmra</th>\n",
       "      <th>pmdec</th>\n",
       "      <th>vabs</th>\n",
       "      <th>vabs_err</th>\n",
       "      <th>vabs_err_nocov</th>\n",
       "      <th>source_id</th>\n",
       "      <th>ra</th>\n",
       "      <th>dec</th>\n",
       "      <th>l</th>\n",
       "      <th>b</th>\n",
       "    </tr>\n",
       "  </thead>\n",
       "  <tbody>\n",
       "    <tr>\n",
       "      <th>0</th>\n",
       "      <td>-3.240632</td>\n",
       "      <td>-17.969556</td>\n",
       "      <td>221.417783</td>\n",
       "      <td>0.572309</td>\n",
       "      <td>0.391047</td>\n",
       "      <td>0.070076</td>\n",
       "      <td>0.00</td>\n",
       "      <td>8.080639</td>\n",
       "      <td>0.004961</td>\n",
       "      <td>0.048452</td>\n",
       "      <td>...</td>\n",
       "      <td>13.523433</td>\n",
       "      <td>-108.503516</td>\n",
       "      <td>222.169398</td>\n",
       "      <td>0.108892</td>\n",
       "      <td>0.077175</td>\n",
       "      <td>931119295974643968</td>\n",
       "      <td>124.119963</td>\n",
       "      <td>46.596594</td>\n",
       "      <td>173.160385</td>\n",
       "      <td>33.575587</td>\n",
       "    </tr>\n",
       "    <tr>\n",
       "      <th>2</th>\n",
       "      <td>-33.218519</td>\n",
       "      <td>-0.849941</td>\n",
       "      <td>193.651356</td>\n",
       "      <td>2.198042</td>\n",
       "      <td>3.930788</td>\n",
       "      <td>1.452859</td>\n",
       "      <td>0.00</td>\n",
       "      <td>8.098250</td>\n",
       "      <td>-0.015245</td>\n",
       "      <td>0.062073</td>\n",
       "      <td>...</td>\n",
       "      <td>-219.105808</td>\n",
       "      <td>-144.140524</td>\n",
       "      <td>196.481654</td>\n",
       "      <td>1.053067</td>\n",
       "      <td>1.478847</td>\n",
       "      <td>722095297945702144</td>\n",
       "      <td>155.284149</td>\n",
       "      <td>22.238949</td>\n",
       "      <td>212.695862</td>\n",
       "      <td>55.636059</td>\n",
       "    </tr>\n",
       "    <tr>\n",
       "      <th>10</th>\n",
       "      <td>20.922009</td>\n",
       "      <td>5.574040</td>\n",
       "      <td>227.382636</td>\n",
       "      <td>1.184066</td>\n",
       "      <td>1.816531</td>\n",
       "      <td>0.387812</td>\n",
       "      <td>0.25</td>\n",
       "      <td>8.095613</td>\n",
       "      <td>0.008998</td>\n",
       "      <td>-0.020702</td>\n",
       "      <td>...</td>\n",
       "      <td>9.030868</td>\n",
       "      <td>-99.196223</td>\n",
       "      <td>228.411172</td>\n",
       "      <td>0.323830</td>\n",
       "      <td>0.403167</td>\n",
       "      <td>2513290483661815808</td>\n",
       "      <td>33.050139</td>\n",
       "      <td>0.646425</td>\n",
       "      <td>161.169824</td>\n",
       "      <td>-56.109025</td>\n",
       "    </tr>\n",
       "    <tr>\n",
       "      <th>11</th>\n",
       "      <td>42.445805</td>\n",
       "      <td>-8.545461</td>\n",
       "      <td>249.967856</td>\n",
       "      <td>0.075612</td>\n",
       "      <td>0.169943</td>\n",
       "      <td>0.368202</td>\n",
       "      <td>0.75</td>\n",
       "      <td>8.131195</td>\n",
       "      <td>0.044674</td>\n",
       "      <td>0.000323</td>\n",
       "      <td>...</td>\n",
       "      <td>-97.330327</td>\n",
       "      <td>-60.780483</td>\n",
       "      <td>253.689969</td>\n",
       "      <td>0.369018</td>\n",
       "      <td>0.363389</td>\n",
       "      <td>1795001802346922368</td>\n",
       "      <td>328.774162</td>\n",
       "      <td>23.061530</td>\n",
       "      <td>78.369648</td>\n",
       "      <td>-24.178227</td>\n",
       "    </tr>\n",
       "    <tr>\n",
       "      <th>12</th>\n",
       "      <td>75.201724</td>\n",
       "      <td>-6.453011</td>\n",
       "      <td>212.717514</td>\n",
       "      <td>0.891298</td>\n",
       "      <td>2.281856</td>\n",
       "      <td>2.195839</td>\n",
       "      <td>-0.50</td>\n",
       "      <td>8.109092</td>\n",
       "      <td>0.033509</td>\n",
       "      <td>-0.013988</td>\n",
       "      <td>...</td>\n",
       "      <td>-157.320169</td>\n",
       "      <td>-191.295734</td>\n",
       "      <td>225.711501</td>\n",
       "      <td>1.716712</td>\n",
       "      <td>2.094105</td>\n",
       "      <td>2796911878868892160</td>\n",
       "      <td>3.929782</td>\n",
       "      <td>17.955612</td>\n",
       "      <td>111.067698</td>\n",
       "      <td>-44.091749</td>\n",
       "    </tr>\n",
       "    <tr>\n",
       "      <th>...</th>\n",
       "      <td>...</td>\n",
       "      <td>...</td>\n",
       "      <td>...</td>\n",
       "      <td>...</td>\n",
       "      <td>...</td>\n",
       "      <td>...</td>\n",
       "      <td>...</td>\n",
       "      <td>...</td>\n",
       "      <td>...</td>\n",
       "      <td>...</td>\n",
       "      <td>...</td>\n",
       "      <td>...</td>\n",
       "      <td>...</td>\n",
       "      <td>...</td>\n",
       "      <td>...</td>\n",
       "      <td>...</td>\n",
       "      <td>...</td>\n",
       "      <td>...</td>\n",
       "      <td>...</td>\n",
       "      <td>...</td>\n",
       "      <td>...</td>\n",
       "    </tr>\n",
       "    <tr>\n",
       "      <th>51963</th>\n",
       "      <td>-30.125898</td>\n",
       "      <td>3.289730</td>\n",
       "      <td>224.632178</td>\n",
       "      <td>0.217945</td>\n",
       "      <td>0.763750</td>\n",
       "      <td>0.047484</td>\n",
       "      <td>0.00</td>\n",
       "      <td>8.121330</td>\n",
       "      <td>0.000053</td>\n",
       "      <td>0.018165</td>\n",
       "      <td>...</td>\n",
       "      <td>3385.315810</td>\n",
       "      <td>544.386385</td>\n",
       "      <td>226.667173</td>\n",
       "      <td>0.062119</td>\n",
       "      <td>0.056401</td>\n",
       "      <td>5140693571158739840</td>\n",
       "      <td>24.771554</td>\n",
       "      <td>-17.948300</td>\n",
       "      <td>175.520592</td>\n",
       "      <td>-75.686939</td>\n",
       "    </tr>\n",
       "    <tr>\n",
       "      <th>51964</th>\n",
       "      <td>-24.904703</td>\n",
       "      <td>-6.954393</td>\n",
       "      <td>226.804065</td>\n",
       "      <td>0.832850</td>\n",
       "      <td>3.129186</td>\n",
       "      <td>0.059875</td>\n",
       "      <td>-1.50</td>\n",
       "      <td>8.121341</td>\n",
       "      <td>0.000052</td>\n",
       "      <td>0.018208</td>\n",
       "      <td>...</td>\n",
       "      <td>3178.694258</td>\n",
       "      <td>584.061335</td>\n",
       "      <td>228.273283</td>\n",
       "      <td>0.053771</td>\n",
       "      <td>0.144044</td>\n",
       "      <td>5140693571158946048</td>\n",
       "      <td>24.771674</td>\n",
       "      <td>-17.947683</td>\n",
       "      <td>175.519047</td>\n",
       "      <td>-75.686441</td>\n",
       "    </tr>\n",
       "    <tr>\n",
       "      <th>51966</th>\n",
       "      <td>58.606752</td>\n",
       "      <td>67.497414</td>\n",
       "      <td>192.044913</td>\n",
       "      <td>0.052968</td>\n",
       "      <td>0.119715</td>\n",
       "      <td>0.006935</td>\n",
       "      <td>0.50</td>\n",
       "      <td>8.120946</td>\n",
       "      <td>-0.000095</td>\n",
       "      <td>0.023116</td>\n",
       "      <td>...</td>\n",
       "      <td>-580.057087</td>\n",
       "      <td>-4776.588719</td>\n",
       "      <td>211.829886</td>\n",
       "      <td>0.057512</td>\n",
       "      <td>0.041275</td>\n",
       "      <td>762815470562110464</td>\n",
       "      <td>165.830960</td>\n",
       "      <td>35.948653</td>\n",
       "      <td>185.169510</td>\n",
       "      <td>65.433988</td>\n",
       "    </tr>\n",
       "    <tr>\n",
       "      <th>51968</th>\n",
       "      <td>-128.084942</td>\n",
       "      <td>-28.000630</td>\n",
       "      <td>249.645400</td>\n",
       "      <td>0.109060</td>\n",
       "      <td>0.030918</td>\n",
       "      <td>0.066513</td>\n",
       "      <td>-0.25</td>\n",
       "      <td>8.123519</td>\n",
       "      <td>0.000915</td>\n",
       "      <td>0.021245</td>\n",
       "      <td>...</td>\n",
       "      <td>-801.550978</td>\n",
       "      <td>10362.394207</td>\n",
       "      <td>281.979810</td>\n",
       "      <td>0.013617</td>\n",
       "      <td>0.077035</td>\n",
       "      <td>4472832130942575872</td>\n",
       "      <td>269.448503</td>\n",
       "      <td>4.739420</td>\n",
       "      <td>31.049418</td>\n",
       "      <td>14.086604</td>\n",
       "    </tr>\n",
       "    <tr>\n",
       "      <th>51969</th>\n",
       "      <td>-16.201562</td>\n",
       "      <td>-21.896255</td>\n",
       "      <td>247.091873</td>\n",
       "      <td>0.150707</td>\n",
       "      <td>0.008684</td>\n",
       "      <td>0.154678</td>\n",
       "      <td>0.00</td>\n",
       "      <td>8.122903</td>\n",
       "      <td>-0.000937</td>\n",
       "      <td>0.020756</td>\n",
       "      <td>...</td>\n",
       "      <td>-3781.741008</td>\n",
       "      <td>769.465015</td>\n",
       "      <td>248.588677</td>\n",
       "      <td>0.164344</td>\n",
       "      <td>0.154064</td>\n",
       "      <td>5853498713190525696</td>\n",
       "      <td>217.392321</td>\n",
       "      <td>-62.676075</td>\n",
       "      <td>313.925496</td>\n",
       "      <td>-1.917754</td>\n",
       "    </tr>\n",
       "  </tbody>\n",
       "</table>\n",
       "<p>27723 rows × 35 columns</p>\n",
       "</div>"
      ],
      "text/plain": [
       "               vr     vtheta        vphi    vr_err  vtheta_err  vphi_err  \\\n",
       "0       -3.240632 -17.969556  221.417783  0.572309    0.391047  0.070076   \n",
       "2      -33.218519  -0.849941  193.651356  2.198042    3.930788  1.452859   \n",
       "10      20.922009   5.574040  227.382636  1.184066    1.816531  0.387812   \n",
       "11      42.445805  -8.545461  249.967856  0.075612    0.169943  0.368202   \n",
       "12      75.201724  -6.453011  212.717514  0.891298    2.281856  2.195839   \n",
       "...           ...        ...         ...       ...         ...       ...   \n",
       "51963  -30.125898   3.289730  224.632178  0.217945    0.763750  0.047484   \n",
       "51964  -24.904703  -6.954393  226.804065  0.832850    3.129186  0.059875   \n",
       "51966   58.606752  67.497414  192.044913  0.052968    0.119715  0.006935   \n",
       "51968 -128.084942 -28.000630  249.645400  0.109060    0.030918  0.066513   \n",
       "51969  -16.201562 -21.896255  247.091873  0.150707    0.008684  0.154678   \n",
       "\n",
       "        feH         x         y         z  ...         pmra         pmdec  \\\n",
       "0      0.00  8.080639  0.004961  0.048452  ...    13.523433   -108.503516   \n",
       "2      0.00  8.098250 -0.015245  0.062073  ...  -219.105808   -144.140524   \n",
       "10     0.25  8.095613  0.008998 -0.020702  ...     9.030868    -99.196223   \n",
       "11     0.75  8.131195  0.044674  0.000323  ...   -97.330327    -60.780483   \n",
       "12    -0.50  8.109092  0.033509 -0.013988  ...  -157.320169   -191.295734   \n",
       "...     ...       ...       ...       ...  ...          ...           ...   \n",
       "51963  0.00  8.121330  0.000053  0.018165  ...  3385.315810    544.386385   \n",
       "51964 -1.50  8.121341  0.000052  0.018208  ...  3178.694258    584.061335   \n",
       "51966  0.50  8.120946 -0.000095  0.023116  ...  -580.057087  -4776.588719   \n",
       "51968 -0.25  8.123519  0.000915  0.021245  ...  -801.550978  10362.394207   \n",
       "51969  0.00  8.122903 -0.000937  0.020756  ... -3781.741008    769.465015   \n",
       "\n",
       "             vabs  vabs_err  vabs_err_nocov            source_id          ra  \\\n",
       "0      222.169398  0.108892        0.077175   931119295974643968  124.119963   \n",
       "2      196.481654  1.053067        1.478847   722095297945702144  155.284149   \n",
       "10     228.411172  0.323830        0.403167  2513290483661815808   33.050139   \n",
       "11     253.689969  0.369018        0.363389  1795001802346922368  328.774162   \n",
       "12     225.711501  1.716712        2.094105  2796911878868892160    3.929782   \n",
       "...           ...       ...             ...                  ...         ...   \n",
       "51963  226.667173  0.062119        0.056401  5140693571158739840   24.771554   \n",
       "51964  228.273283  0.053771        0.144044  5140693571158946048   24.771674   \n",
       "51966  211.829886  0.057512        0.041275   762815470562110464  165.830960   \n",
       "51968  281.979810  0.013617        0.077035  4472832130942575872  269.448503   \n",
       "51969  248.588677  0.164344        0.154064  5853498713190525696  217.392321   \n",
       "\n",
       "             dec           l          b  \n",
       "0      46.596594  173.160385  33.575587  \n",
       "2      22.238949  212.695862  55.636059  \n",
       "10      0.646425  161.169824 -56.109025  \n",
       "11     23.061530   78.369648 -24.178227  \n",
       "12     17.955612  111.067698 -44.091749  \n",
       "...          ...         ...        ...  \n",
       "51963 -17.948300  175.520592 -75.686939  \n",
       "51964 -17.947683  175.519047 -75.686441  \n",
       "51966  35.948653  185.169510  65.433988  \n",
       "51968   4.739420   31.049418  14.086604  \n",
       "51969 -62.676075  313.925496  -1.917754  \n",
       "\n",
       "[27723 rows x 35 columns]"
      ]
     },
     "execution_count": 11,
     "metadata": {},
     "output_type": "execute_result"
    }
   ],
   "source": [
    "df_origin"
   ]
  },
  {
   "cell_type": "code",
   "execution_count": 6,
   "metadata": {},
   "outputs": [],
   "source": [
    "speed = df_origin[\"vabs\"]"
   ]
  },
  {
   "cell_type": "code",
   "execution_count": 7,
   "metadata": {},
   "outputs": [
    {
     "data": {
      "text/plain": [
       "0        222.169398\n",
       "2        196.481654\n",
       "10       228.411172\n",
       "11       253.689969\n",
       "12       225.711501\n",
       "            ...    \n",
       "51963    226.667173\n",
       "51964    228.273283\n",
       "51966    211.829886\n",
       "51968    281.979810\n",
       "51969    248.588677\n",
       "Name: vabs, Length: 27723, dtype: float64"
      ]
     },
     "execution_count": 7,
     "metadata": {},
     "output_type": "execute_result"
    }
   ],
   "source": [
    "speed"
   ]
  },
  {
   "cell_type": "code",
   "execution_count": 10,
   "metadata": {},
   "outputs": [],
   "source": [
    "speed = speed.to_numpy()"
   ]
  },
  {
   "cell_type": "code",
   "execution_count": null,
   "metadata": {},
   "outputs": [],
   "source": []
  }
 ],
 "metadata": {
  "interpreter": {
   "hash": "93a2ed59e75f61c367217581723979a25e0d93ad43863760317aa007663cef3e"
  },
  "kernelspec": {
   "display_name": "Python 3.8.13 ('py3')",
   "language": "python",
   "name": "python3"
  },
  "language_info": {
   "codemirror_mode": {
    "name": "ipython",
    "version": 3
   },
   "file_extension": ".py",
   "mimetype": "text/x-python",
   "name": "python",
   "nbconvert_exporter": "python",
   "pygments_lexer": "ipython3",
   "version": "3.8.13"
  },
  "orig_nbformat": 4
 },
 "nbformat": 4,
 "nbformat_minor": 2
}
