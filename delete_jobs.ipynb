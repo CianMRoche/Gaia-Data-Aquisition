{
 "cells": [
  {
   "cell_type": "markdown",
   "metadata": {},
   "source": [
    "It is necessary to clear your job cache, as we only have a download limit of 20GB of data until the cache is cleared. Once any job finishes, one can run the below code (or perhaps a script equivalent) to clear completed jobs from the data cache."
   ]
  },
  {
   "cell_type": "code",
   "execution_count": 1,
   "metadata": {},
   "outputs": [
    {
     "name": "stdout",
     "output_type": "stream",
     "text": [
      "INFO: Login to gaia TAP server [astroquery.gaia.core]\n",
      "OK\n",
      "INFO: Login to gaia data server [astroquery.gaia.core]\n",
      "OK\n"
     ]
    }
   ],
   "source": [
    "from astroquery.gaia import Gaia\n",
    "\n",
    "# Define login details (necessary to avoid download limits)\n",
    "username = 'croche'\n",
    "password = ''\n",
    "Gaia.login(user=username, password=password)\n",
    "\n",
    "jobs = [job for job in Gaia.list_async_jobs()]"
   ]
  },
  {
   "cell_type": "code",
   "execution_count": 2,
   "metadata": {},
   "outputs": [
    {
     "name": "stdout",
     "output_type": "stream",
     "text": [
      "1653764205685O\n",
      "1653764304362O\n",
      "1653764206190O\n",
      "1653764206173O\n",
      "1653764202400O\n",
      "1653763842421O\n",
      "1653763820801O\n",
      "1653763793458O\n",
      "1653760361251O\n",
      "1653760360539O\n",
      "1653761080461O\n",
      "1653760985632O\n",
      "1653756534243O\n",
      "1653756442290O\n"
     ]
    }
   ],
   "source": [
    "# To print all the jobs owned by the user:\n",
    "for job in jobs:\n",
    "    print(job.jobid)"
   ]
  },
  {
   "cell_type": "code",
   "execution_count": 3,
   "metadata": {},
   "outputs": [
    {
     "name": "stdout",
     "output_type": "stream",
     "text": [
      "Removed jobs: '['1653764205685O', '1653764304362O', '1653764206190O', '1653764206173O', '1653764202400O', '1653763842421O', '1653763820801O', '1653763793458O', '1653760361251O', '1653760360539O', '1653761080461O', '1653760985632O', '1653756534243O', '1653756442290O']'.\n"
     ]
    }
   ],
   "source": [
    "# To remove all the jobs at once:\n",
    "job_ids = [job.jobid for job in jobs]\n",
    "Gaia.remove_jobs(job_ids)"
   ]
  },
  {
   "cell_type": "code",
   "execution_count": null,
   "metadata": {},
   "outputs": [],
   "source": []
  }
 ],
 "metadata": {
  "interpreter": {
   "hash": "4958337ffdfbf18c0f5bc4dc2467384e1e4b9adcb14586651812f0f862533725"
  },
  "kernelspec": {
   "display_name": "Python 3.9.7 ('py3')",
   "language": "python",
   "name": "python3"
  },
  "language_info": {
   "codemirror_mode": {
    "name": "ipython",
    "version": 3
   },
   "file_extension": ".py",
   "mimetype": "text/x-python",
   "name": "python",
   "nbconvert_exporter": "python",
   "pygments_lexer": "ipython3",
   "version": "3.9.7"
  },
  "orig_nbformat": 4
 },
 "nbformat": 4,
 "nbformat_minor": 2
}
