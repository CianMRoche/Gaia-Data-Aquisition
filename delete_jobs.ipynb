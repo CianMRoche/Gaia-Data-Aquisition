{
 "cells": [
  {
   "cell_type": "markdown",
   "metadata": {},
   "source": [
    "It is necessary to clear your job cache, as we only have a download limit of 20GB of data until the cache is cleared. Once any job finishes, one can run the below code (or perhaps a script equivalent) to clear completed jobs from the data cache."
   ]
  },
  {
   "cell_type": "code",
   "execution_count": 2,
   "metadata": {},
   "outputs": [
    {
     "name": "stdout",
     "output_type": "stream",
     "text": [
      "INFO: Login to gaia TAP server [astroquery.gaia.core]\n",
      "OK\n",
      "INFO: Login to gaia data server [astroquery.gaia.core]\n",
      "OK\n"
     ]
    }
   ],
   "source": [
    "from astroquery.gaia import Gaia\n",
    "\n",
    "# Define login details (necessary to avoid download limits) \n",
    "\n",
    "# ---- Enter yours ----\n",
    "username = ''\n",
    "password = ''\n",
    "\n",
    "Gaia.login(user=username, password=password)\n",
    "\n",
    "jobs = [job for job in Gaia.list_async_jobs()]"
   ]
  },
  {
   "cell_type": "code",
   "execution_count": 3,
   "metadata": {},
   "outputs": [
    {
     "name": "stdout",
     "output_type": "stream",
     "text": [
      "1655138167914O\n",
      "1655136097182O\n"
     ]
    }
   ],
   "source": [
    "# To print all the jobs owned by the user:\n",
    "for job in jobs:\n",
    "    print(job.jobid)"
   ]
  },
  {
   "cell_type": "code",
   "execution_count": 4,
   "metadata": {},
   "outputs": [
    {
     "name": "stdout",
     "output_type": "stream",
     "text": [
      "Removed jobs: '['1655138167914O', '1655136097182O']'.\n"
     ]
    }
   ],
   "source": [
    "# To remove all the jobs at once:\n",
    "job_ids = [job.jobid for job in jobs]\n",
    "Gaia.remove_jobs(job_ids)"
   ]
  },
  {
   "cell_type": "code",
   "execution_count": null,
   "metadata": {},
   "outputs": [],
   "source": []
  }
 ],
 "metadata": {
  "interpreter": {
   "hash": "93a2ed59e75f61c367217581723979a25e0d93ad43863760317aa007663cef3e"
  },
  "kernelspec": {
   "display_name": "Python 3.8.13 ('py3')",
   "language": "python",
   "name": "python3"
  },
  "language_info": {
   "codemirror_mode": {
    "name": "ipython",
    "version": 3
   },
   "file_extension": ".py",
   "mimetype": "text/x-python",
   "name": "python",
   "nbconvert_exporter": "python",
   "pygments_lexer": "ipython3",
   "version": "3.8.13"
  },
  "orig_nbformat": 4
 },
 "nbformat": 4,
 "nbformat_minor": 2
}
